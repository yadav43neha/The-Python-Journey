{
 "cells": [
  {
   "cell_type": "markdown",
   "id": "1182be5d",
   "metadata": {},
   "source": [
    "There are 3 types of Data Types in Python\n",
    "\n",
    "1) Numbers (Integers(int) and Floating Point(float)).<br>\n",
    "2) String (text andsequene of characters(str))\n",
    "3)Boolean (True or False value)"
   ]
  },
  {
   "cell_type": "markdown",
   "id": "ebe168ff",
   "metadata": {},
   "source": [
    "##### Getting the Datatype"
   ]
  },
  {
   "cell_type": "markdown",
   "id": "41529dc7",
   "metadata": {},
   "source": [
    "Type()"
   ]
  },
  {
   "cell_type": "code",
   "execution_count": 1,
   "id": "abdef133",
   "metadata": {},
   "outputs": [
    {
     "data": {
      "text/plain": [
       "int"
      ]
     },
     "execution_count": 1,
     "metadata": {},
     "output_type": "execute_result"
    }
   ],
   "source": [
    "type(80)"
   ]
  },
  {
   "cell_type": "code",
   "execution_count": 4,
   "id": "6c63818f",
   "metadata": {},
   "outputs": [
    {
     "data": {
      "text/plain": [
       "int"
      ]
     },
     "execution_count": 4,
     "metadata": {},
     "output_type": "execute_result"
    }
   ],
   "source": [
    "type(-79)"
   ]
  },
  {
   "cell_type": "code",
   "execution_count": 2,
   "id": "6eb68545",
   "metadata": {},
   "outputs": [
    {
     "data": {
      "text/plain": [
       "str"
      ]
     },
     "execution_count": 2,
     "metadata": {},
     "output_type": "execute_result"
    }
   ],
   "source": [
    "type(\"hello\")"
   ]
  },
  {
   "cell_type": "code",
   "execution_count": 3,
   "id": "d7ebba61",
   "metadata": {},
   "outputs": [
    {
     "data": {
      "text/plain": [
       "float"
      ]
     },
     "execution_count": 3,
     "metadata": {},
     "output_type": "execute_result"
    }
   ],
   "source": [
    "type(60.9)"
   ]
  },
  {
   "cell_type": "code",
   "execution_count": 5,
   "id": "ce2cfd86",
   "metadata": {},
   "outputs": [
    {
     "data": {
      "text/plain": [
       "float"
      ]
     },
     "execution_count": 5,
     "metadata": {},
     "output_type": "execute_result"
    }
   ],
   "source": [
    "type(-79.7)"
   ]
  },
  {
   "cell_type": "code",
   "execution_count": 6,
   "id": "9e6312cb",
   "metadata": {},
   "outputs": [
    {
     "data": {
      "text/plain": [
       "bool"
      ]
     },
     "execution_count": 6,
     "metadata": {},
     "output_type": "execute_result"
    }
   ],
   "source": [
    "type(7>6) #its true"
   ]
  },
  {
   "cell_type": "code",
   "execution_count": 7,
   "id": "ba44615a",
   "metadata": {},
   "outputs": [
    {
     "data": {
      "text/plain": [
       "bool"
      ]
     },
     "execution_count": 7,
     "metadata": {},
     "output_type": "execute_result"
    }
   ],
   "source": [
    "type(7<6) #its false"
   ]
  },
  {
   "cell_type": "markdown",
   "id": "b5980ff7",
   "metadata": {},
   "source": [
    "#### Casting Data Types"
   ]
  },
  {
   "cell_type": "markdown",
   "id": "d33f2c91",
   "metadata": {},
   "source": [
    "Casting is process of converting from one data type to another<br>\n",
    "int() <br>\n",
    "float()"
   ]
  },
  {
   "cell_type": "code",
   "execution_count": 8,
   "id": "dd43fbc2",
   "metadata": {},
   "outputs": [
    {
     "data": {
      "text/plain": [
       "45"
      ]
     },
     "execution_count": 8,
     "metadata": {},
     "output_type": "execute_result"
    }
   ],
   "source": [
    "int(45.6) #it will convert the no. from float data type to int data type"
   ]
  },
  {
   "cell_type": "code",
   "execution_count": 9,
   "id": "f842baba",
   "metadata": {},
   "outputs": [
    {
     "data": {
      "text/plain": [
       "50.0"
      ]
     },
     "execution_count": 9,
     "metadata": {},
     "output_type": "execute_result"
    }
   ],
   "source": [
    "float(50)"
   ]
  },
  {
   "cell_type": "code",
   "execution_count": 14,
   "id": "adbb98bb",
   "metadata": {},
   "outputs": [
    {
     "data": {
      "text/plain": [
       "'3'"
      ]
     },
     "execution_count": 14,
     "metadata": {},
     "output_type": "execute_result"
    }
   ],
   "source": [
    "string=str(3)\n",
    "string"
   ]
  },
  {
   "cell_type": "code",
   "execution_count": 13,
   "id": "ff643af1",
   "metadata": {},
   "outputs": [
    {
     "data": {
      "text/plain": [
       "str"
      ]
     },
     "execution_count": 13,
     "metadata": {},
     "output_type": "execute_result"
    }
   ],
   "source": [
    "type(string)"
   ]
  },
  {
   "cell_type": "code",
   "execution_count": null,
   "id": "233b5527",
   "metadata": {},
   "outputs": [],
   "source": []
  }
 ],
 "metadata": {
  "kernelspec": {
   "display_name": "Python 3",
   "language": "python",
   "name": "python3"
  },
  "language_info": {
   "codemirror_mode": {
    "name": "ipython",
    "version": 3
   },
   "file_extension": ".py",
   "mimetype": "text/x-python",
   "name": "python",
   "nbconvert_exporter": "python",
   "pygments_lexer": "ipython3",
   "version": "3.7.3"
  }
 },
 "nbformat": 4,
 "nbformat_minor": 5
}
