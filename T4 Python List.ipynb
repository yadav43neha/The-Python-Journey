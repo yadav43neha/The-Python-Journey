{
 "cells": [
  {
   "cell_type": "markdown",
   "id": "4e9c635d",
   "metadata": {},
   "source": [
    "1) A List is collection of data which can be of mixed data types<br>\n",
    "2) A list unlike variables can store multiple values in one container. <br>\n",
    "3) Each item or value in a list is separated by a comma.<br>\n",
    "4) A list is created with squared brackets[]: fruits=['apple','banana']<br>\n",
    "5) Items in a list can accessed by their index value. 0,1,2,3 etc <br>\n",
    "6) Items in a list are ordered but can be changed via their index position"
   ]
  },
  {
   "cell_type": "code",
   "execution_count": 1,
   "id": "62e029e2",
   "metadata": {},
   "outputs": [],
   "source": [
    "#create python list called animals\n",
    "animals=['cow','buffalo','goat','dog','lion']"
   ]
  },
  {
   "cell_type": "code",
   "execution_count": 2,
   "id": "646fdf23",
   "metadata": {},
   "outputs": [
    {
     "name": "stdout",
     "output_type": "stream",
     "text": [
      "cow\n"
     ]
    }
   ],
   "source": [
    "#Accesing item in a list via their index position\n",
    "\n",
    "print(animals[0])"
   ]
  },
  {
   "cell_type": "code",
   "execution_count": 4,
   "id": "8696ee92",
   "metadata": {},
   "outputs": [
    {
     "name": "stdout",
     "output_type": "stream",
     "text": [
      "buffalo\n"
     ]
    }
   ],
   "source": [
    "# Items can also be accessed by negative index\n",
    "print(animals[-4])"
   ]
  },
  {
   "cell_type": "code",
   "execution_count": 5,
   "id": "7e7f4ec2",
   "metadata": {},
   "outputs": [],
   "source": [
    "#create a list called fruits\n",
    "fruits=[\"apple\",\"banana\",\"cherry\",\"grapes\",\"mango\"]\n"
   ]
  },
  {
   "cell_type": "code",
   "execution_count": 6,
   "id": "de32f7b1",
   "metadata": {},
   "outputs": [],
   "source": [
    "#change the value of an item in a list\n",
    "\n",
    "fruits[0]=\"orange\""
   ]
  },
  {
   "cell_type": "code",
   "execution_count": 7,
   "id": "03b9219e",
   "metadata": {},
   "outputs": [
    {
     "data": {
      "text/plain": [
       "['orange', 'banana', 'cherry', 'grapes', 'mango']"
      ]
     },
     "execution_count": 7,
     "metadata": {},
     "output_type": "execute_result"
    }
   ],
   "source": [
    "fruits"
   ]
  },
  {
   "cell_type": "code",
   "execution_count": 9,
   "id": "bc02ecab",
   "metadata": {},
   "outputs": [],
   "source": [
    "#add a new item in a list\n",
    "\n",
    "fruits.append('chikoo')"
   ]
  },
  {
   "cell_type": "code",
   "execution_count": 11,
   "id": "502cd31b",
   "metadata": {},
   "outputs": [
    {
     "data": {
      "text/plain": [
       "['orange', 'banana', 'cherry', 'grapes', 'mango', 'chikoo']"
      ]
     },
     "execution_count": 11,
     "metadata": {},
     "output_type": "execute_result"
    }
   ],
   "source": [
    "fruits  #chikoo has been added"
   ]
  },
  {
   "cell_type": "code",
   "execution_count": 12,
   "id": "c59359a0",
   "metadata": {},
   "outputs": [],
   "source": [
    "#create a list with mixed data types and also including another list\n",
    "mixed_data=[\"jack\",1,40.5,True,fruits]"
   ]
  },
  {
   "cell_type": "code",
   "execution_count": 13,
   "id": "547b8ad9",
   "metadata": {},
   "outputs": [
    {
     "data": {
      "text/plain": [
       "['jack',\n",
       " 1,\n",
       " 40.5,\n",
       " True,\n",
       " ['orange', 'banana', 'cherry', 'grapes', 'mango', 'chikoo']]"
      ]
     },
     "execution_count": 13,
     "metadata": {},
     "output_type": "execute_result"
    }
   ],
   "source": [
    "mixed_data"
   ]
  },
  {
   "cell_type": "code",
   "execution_count": 14,
   "id": "acc4c3f3",
   "metadata": {},
   "outputs": [
    {
     "data": {
      "text/plain": [
       "40.5"
      ]
     },
     "execution_count": 14,
     "metadata": {},
     "output_type": "execute_result"
    }
   ],
   "source": [
    "mixed_data[2]"
   ]
  },
  {
   "cell_type": "code",
   "execution_count": 15,
   "id": "40af3f80",
   "metadata": {},
   "outputs": [
    {
     "data": {
      "text/plain": [
       "'grapes'"
      ]
     },
     "execution_count": 15,
     "metadata": {},
     "output_type": "execute_result"
    }
   ],
   "source": [
    "# Remove items from a list: there are a few ways to remove items\n",
    "fruits.pop(3)\n",
    "# fruits.remove(\"apple\")\n",
    "#del fruits[3]"
   ]
  },
  {
   "cell_type": "code",
   "execution_count": 16,
   "id": "de256bc7",
   "metadata": {},
   "outputs": [
    {
     "data": {
      "text/plain": [
       "['orange', 'banana', 'cherry', 'mango', 'chikoo']"
      ]
     },
     "execution_count": 16,
     "metadata": {},
     "output_type": "execute_result"
    }
   ],
   "source": [
    "fruits #grapes removed"
   ]
  },
  {
   "cell_type": "code",
   "execution_count": 17,
   "id": "e90528c0",
   "metadata": {},
   "outputs": [
    {
     "name": "stdout",
     "output_type": "stream",
     "text": [
      "cow\n",
      "buffalo\n",
      "goat\n",
      "dog\n",
      "lion\n"
     ]
    }
   ],
   "source": [
    "#Loop through a list\n",
    "#here x is going to represent each item in a list.\n",
    "for x in animals:\n",
    "    print(x)"
   ]
  },
  {
   "cell_type": "code",
   "execution_count": 18,
   "id": "9dbe2b5f",
   "metadata": {},
   "outputs": [
    {
     "name": "stdout",
     "output_type": "stream",
     "text": [
      "5\n"
     ]
    }
   ],
   "source": [
    "#check the length of list\n",
    "print(len(animals))"
   ]
  },
  {
   "cell_type": "code",
   "execution_count": 19,
   "id": "77991c7e",
   "metadata": {},
   "outputs": [],
   "source": [
    "#clear a list\n",
    "fruits.clear()"
   ]
  },
  {
   "cell_type": "code",
   "execution_count": 20,
   "id": "baeb71d0",
   "metadata": {},
   "outputs": [
    {
     "data": {
      "text/plain": [
       "[]"
      ]
     },
     "execution_count": 20,
     "metadata": {},
     "output_type": "execute_result"
    }
   ],
   "source": [
    "fruits #items cleared also called as empty list"
   ]
  },
  {
   "cell_type": "code",
   "execution_count": null,
   "id": "25546493",
   "metadata": {},
   "outputs": [],
   "source": []
  }
 ],
 "metadata": {
  "kernelspec": {
   "display_name": "Python 3",
   "language": "python",
   "name": "python3"
  },
  "language_info": {
   "codemirror_mode": {
    "name": "ipython",
    "version": 3
   },
   "file_extension": ".py",
   "mimetype": "text/x-python",
   "name": "python",
   "nbconvert_exporter": "python",
   "pygments_lexer": "ipython3",
   "version": "3.7.3"
  }
 },
 "nbformat": 4,
 "nbformat_minor": 5
}
