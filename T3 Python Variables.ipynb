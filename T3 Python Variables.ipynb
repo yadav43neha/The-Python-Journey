{
 "cells": [
  {
   "cell_type": "markdown",
   "id": "a87aa77f",
   "metadata": {},
   "source": [
    "Variables are named containers for storing data values<br>\n",
    "Variables in Python are created when you assign value to a container <br>\n",
    "Variables names must start with a letter or underscore character <br>\n",
    "Variables name can only contain alpha-numeric characters (A-Z,0-9,_)<br>\n",
    "Variables cannot start with a number<br>\n",
    "Variables names are case sensitive. for e.g. Name and name<br>\n",
    "You cannot use reserved keywords as varibale names.\n"
   ]
  },
  {
   "cell_type": "markdown",
   "id": "cc01ca0f",
   "metadata": {},
   "source": [
    "#### It is a good practice to give your Variable containers descriptive names that reflects what they are storing"
   ]
  },
  {
   "cell_type": "code",
   "execution_count": 1,
   "id": "62fb5f5e",
   "metadata": {},
   "outputs": [],
   "source": [
    "name= 'Neha' #value gets stored inside name variable"
   ]
  },
  {
   "cell_type": "code",
   "execution_count": 2,
   "id": "5f8c6c12",
   "metadata": {},
   "outputs": [
    {
     "name": "stdout",
     "output_type": "stream",
     "text": [
      "Neha\n"
     ]
    }
   ],
   "source": [
    "print(name) # print the output"
   ]
  },
  {
   "cell_type": "code",
   "execution_count": 3,
   "id": "d1b1a7e6",
   "metadata": {},
   "outputs": [],
   "source": [
    "name=\"Yadav\" # changed the variable value"
   ]
  },
  {
   "cell_type": "code",
   "execution_count": 4,
   "id": "1eeec217",
   "metadata": {},
   "outputs": [
    {
     "name": "stdout",
     "output_type": "stream",
     "text": [
      "Yadav\n"
     ]
    }
   ],
   "source": [
    "print(name)"
   ]
  },
  {
   "cell_type": "code",
   "execution_count": 5,
   "id": "e886db73",
   "metadata": {},
   "outputs": [],
   "source": [
    "greetings=\"HELLO WORLD\""
   ]
  },
  {
   "cell_type": "code",
   "execution_count": 6,
   "id": "9a1ad35b",
   "metadata": {},
   "outputs": [
    {
     "data": {
      "text/plain": [
       "'HELLO WORLD'"
      ]
     },
     "execution_count": 6,
     "metadata": {},
     "output_type": "execute_result"
    }
   ],
   "source": [
    "greetings"
   ]
  },
  {
   "cell_type": "code",
   "execution_count": 7,
   "id": "503a2052",
   "metadata": {},
   "outputs": [],
   "source": [
    "new_year=2020"
   ]
  },
  {
   "cell_type": "code",
   "execution_count": 8,
   "id": "af06880b",
   "metadata": {},
   "outputs": [
    {
     "data": {
      "text/plain": [
       "2020"
      ]
     },
     "execution_count": 8,
     "metadata": {},
     "output_type": "execute_result"
    }
   ],
   "source": [
    "new_year"
   ]
  },
  {
   "cell_type": "code",
   "execution_count": 3,
   "id": "aec5b16a",
   "metadata": {},
   "outputs": [
    {
     "ename": "SyntaxError",
     "evalue": "invalid token (<ipython-input-3-38401f064f1d>, line 2)",
     "output_type": "error",
     "traceback": [
      "\u001b[1;36m  File \u001b[1;32m\"<ipython-input-3-38401f064f1d>\"\u001b[1;36m, line \u001b[1;32m2\u001b[0m\n\u001b[1;33m    2_neha='hi'\u001b[0m\n\u001b[1;37m     ^\u001b[0m\n\u001b[1;31mSyntaxError\u001b[0m\u001b[1;31m:\u001b[0m invalid token\n"
     ]
    }
   ],
   "source": [
    "#Variables cannot start with a number\n",
    "2_neha='hi'"
   ]
  },
  {
   "cell_type": "code",
   "execution_count": null,
   "id": "763c440c",
   "metadata": {},
   "outputs": [],
   "source": []
  }
 ],
 "metadata": {
  "kernelspec": {
   "display_name": "Python 3",
   "language": "python",
   "name": "python3"
  },
  "language_info": {
   "codemirror_mode": {
    "name": "ipython",
    "version": 3
   },
   "file_extension": ".py",
   "mimetype": "text/x-python",
   "name": "python",
   "nbconvert_exporter": "python",
   "pygments_lexer": "ipython3",
   "version": "3.7.3"
  }
 },
 "nbformat": 4,
 "nbformat_minor": 5
}
