{
 "cells": [
  {
   "cell_type": "markdown",
   "id": "f48166ca",
   "metadata": {},
   "source": [
    "### There are 3 conditional statements"
   ]
  },
  {
   "cell_type": "markdown",
   "id": "08834dd0",
   "metadata": {},
   "source": [
    "if statements <br>\n",
    "elif statements<br>\n",
    "else statements"
   ]
  },
  {
   "cell_type": "markdown",
   "id": "9fb6df24",
   "metadata": {},
   "source": [
    "##### if statements\n",
    "-Used to check conditions before it executes certain block of code <br>\n",
    "-They help your program make decisions <br>\n",
    "-They only run code in if-block when condition is True<br>\n",
    "-They use comaparison and logical operators to check conditions"
   ]
  },
  {
   "cell_type": "code",
   "execution_count": 6,
   "id": "05ca4730",
   "metadata": {},
   "outputs": [
    {
     "name": "stdout",
     "output_type": "stream",
     "text": [
      "b is greater than a\n"
     ]
    }
   ],
   "source": [
    "a=45\n",
    "b=56\n",
    "if b>a:\n",
    "    print(\"b is greater than a\")\n",
    "# if condition was false then nothing will happen"
   ]
  },
  {
   "cell_type": "markdown",
   "id": "79049de5",
   "metadata": {},
   "source": [
    "#### elif statements\n",
    "\n",
    "-Used to check multiple expressions for True Conditions<br>\n",
    "-Only executes a block of code as soon as one of the conditions evaluates to TRUE"
   ]
  },
  {
   "cell_type": "code",
   "execution_count": 8,
   "id": "7b260c34",
   "metadata": {},
   "outputs": [
    {
     "name": "stdout",
     "output_type": "stream",
     "text": [
      "a and b are equal\n"
     ]
    }
   ],
   "source": [
    "a=78\n",
    "b=78\n",
    "if b>a:\n",
    "    print(\"b is greater than a\")\n",
    "elif a==b:\n",
    "    print(\"a and b are equal\")"
   ]
  },
  {
   "cell_type": "markdown",
   "id": "f4fb90c1",
   "metadata": {},
   "source": [
    "#### else statements\n",
    "\n",
    "-Used to executes a block of code if condition evaluates to false"
   ]
  },
  {
   "cell_type": "code",
   "execution_count": 3,
   "id": "43e477e7",
   "metadata": {},
   "outputs": [
    {
     "name": "stdout",
     "output_type": "stream",
     "text": [
      "b is greater\n"
     ]
    }
   ],
   "source": [
    "a=58\n",
    "b=85\n",
    "if a>b:\n",
    "    print(\"a is greater\")\n",
    "else:\n",
    "    print(\"b is greater\")"
   ]
  },
  {
   "cell_type": "markdown",
   "id": "4aa9e02b",
   "metadata": {},
   "source": [
    "#### Nested if statements\n",
    "\n",
    "-If statement inside an if statement."
   ]
  },
  {
   "cell_type": "code",
   "execution_count": 5,
   "id": "b5f26cff",
   "metadata": {},
   "outputs": [
    {
     "name": "stdout",
     "output_type": "stream",
     "text": [
      "its above 10\n",
      "its above 20\n"
     ]
    }
   ],
   "source": [
    "x=55\n",
    "\n",
    "if x>10:\n",
    "    print(\"its above 10\")\n",
    "    if x>20:\n",
    "        print(\"its above 20\")\n",
    "    else:\n",
    "        print(\"but not above 20\")"
   ]
  },
  {
   "cell_type": "code",
   "execution_count": null,
   "id": "97855ae6",
   "metadata": {},
   "outputs": [],
   "source": []
  }
 ],
 "metadata": {
  "kernelspec": {
   "display_name": "Python 3",
   "language": "python",
   "name": "python3"
  },
  "language_info": {
   "codemirror_mode": {
    "name": "ipython",
    "version": 3
   },
   "file_extension": ".py",
   "mimetype": "text/x-python",
   "name": "python",
   "nbconvert_exporter": "python",
   "pygments_lexer": "ipython3",
   "version": "3.7.3"
  }
 },
 "nbformat": 4,
 "nbformat_minor": 5
}
