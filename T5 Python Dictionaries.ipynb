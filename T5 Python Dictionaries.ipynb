{
 "cells": [
  {
   "cell_type": "markdown",
   "id": "5ec03dd6",
   "metadata": {},
   "source": [
    "1)A dictionary is a collection of data which is unordered ,changeable and indexed<br>\n",
    "2)A dictionary is created with curly bracket{}<br>\n",
    "3)A populated dictionary contains keys and values. The data is in pairs.<br>\n",
    "4) Items in a dictionary can accessed by referring to its name inside square brackets.<br>\n",
    "5)Values of items in a dictionary can be changed."
   ]
  },
  {
   "cell_type": "code",
   "execution_count": 6,
   "id": "59795e17",
   "metadata": {},
   "outputs": [],
   "source": [
    "#create a dictionary called countries_cities\n",
    "\n",
    "countries_cities={\n",
    "    'India':'Pune',\n",
    "    'USA': 'New york',\n",
    "    'Italy':('Rome','roma'),\n",
    "    'Egypt':'cairo',\n",
    "    'croatia':'Zagreb'\n",
    "}"
   ]
  },
  {
   "cell_type": "code",
   "execution_count": 7,
   "id": "44dfbe8a",
   "metadata": {},
   "outputs": [
    {
     "data": {
      "text/plain": [
       "('Rome', 'roma')"
      ]
     },
     "execution_count": 7,
     "metadata": {},
     "output_type": "execute_result"
    }
   ],
   "source": [
    "#access value by its key\n",
    "countries_cities['Italy']"
   ]
  },
  {
   "cell_type": "code",
   "execution_count": 9,
   "id": "373d436f",
   "metadata": {},
   "outputs": [
    {
     "data": {
      "text/plain": [
       "'cairo'"
      ]
     },
     "execution_count": 9,
     "metadata": {},
     "output_type": "execute_result"
    }
   ],
   "source": [
    "#Returns the value of the specified key\n",
    "countries_cities.get('Egypt')"
   ]
  },
  {
   "cell_type": "code",
   "execution_count": 11,
   "id": "de150e9c",
   "metadata": {},
   "outputs": [],
   "source": [
    "#change the value in a dictionary\n",
    "countries_cities[\"USA\"]=\"Atlanta\""
   ]
  },
  {
   "cell_type": "code",
   "execution_count": 12,
   "id": "6cb16327",
   "metadata": {},
   "outputs": [
    {
     "data": {
      "text/plain": [
       "{'India': 'Pune',\n",
       " 'USA': 'Atlanta',\n",
       " 'Italy': ('Rome', 'roma'),\n",
       " 'Egypt': 'cairo',\n",
       " 'croatia': 'Zagreb'}"
      ]
     },
     "execution_count": 12,
     "metadata": {},
     "output_type": "execute_result"
    }
   ],
   "source": [
    "countries_cities #value changed"
   ]
  },
  {
   "cell_type": "code",
   "execution_count": 14,
   "id": "a0e9dc8c",
   "metadata": {},
   "outputs": [],
   "source": [
    "# add item in dictionary\n",
    "countries_cities['Japan']=\"Tokya\""
   ]
  },
  {
   "cell_type": "code",
   "execution_count": 15,
   "id": "d549f749",
   "metadata": {},
   "outputs": [
    {
     "data": {
      "text/plain": [
       "{'India': 'Pune',\n",
       " 'USA': 'Atlanta',\n",
       " 'Italy': ('Rome', 'roma'),\n",
       " 'Egypt': 'cairo',\n",
       " 'croatia': 'Zagreb',\n",
       " 'Japan': 'Tokya'}"
      ]
     },
     "execution_count": 15,
     "metadata": {},
     "output_type": "execute_result"
    }
   ],
   "source": [
    "#Print the dictionary\n",
    "countries_cities\n"
   ]
  },
  {
   "cell_type": "code",
   "execution_count": 16,
   "id": "0df8a6fa",
   "metadata": {},
   "outputs": [
    {
     "name": "stdout",
     "output_type": "stream",
     "text": [
      "{'India': 'Pune', 'USA': 'Atlanta', 'Italy': ('Rome', 'roma'), 'Egypt': 'cairo', 'croatia': 'Zagreb'}\n"
     ]
    }
   ],
   "source": [
    "#Remove items from dictionary.there are several ways to do this\n",
    "countries_cities.pop(\"Japan\") #removes item with specified key name in pass in circular bracket\n",
    "\n",
    "print(countries_cities)\n",
    "\n",
    "#del countries_cities['Japan'] #removes item with specified key name\n",
    "\n"
   ]
  },
  {
   "cell_type": "code",
   "execution_count": 17,
   "id": "697d087f",
   "metadata": {},
   "outputs": [
    {
     "data": {
      "text/plain": [
       "('croatia', 'Zagreb')"
      ]
     },
     "execution_count": 17,
     "metadata": {},
     "output_type": "execute_result"
    }
   ],
   "source": [
    "countries_cities.popitem() #removes the last inserted item using '.popitem()'"
   ]
  },
  {
   "cell_type": "code",
   "execution_count": 18,
   "id": "27f0ad6e",
   "metadata": {},
   "outputs": [
    {
     "data": {
      "text/plain": [
       "{'India': 'Pune',\n",
       " 'USA': 'Atlanta',\n",
       " 'Italy': ('Rome', 'roma'),\n",
       " 'Egypt': 'cairo'}"
      ]
     },
     "execution_count": 18,
     "metadata": {},
     "output_type": "execute_result"
    }
   ],
   "source": [
    "countries_cities #croatia removed"
   ]
  },
  {
   "cell_type": "code",
   "execution_count": 19,
   "id": "f30d8a6e",
   "metadata": {},
   "outputs": [
    {
     "name": "stdout",
     "output_type": "stream",
     "text": [
      "India\n",
      "USA\n",
      "Italy\n",
      "Egypt\n"
     ]
    }
   ],
   "source": [
    "#Looping through dictionary keys\n",
    "#here x  is keys of countries_cities\n",
    "\n",
    "for x in countries_cities:\n",
    "    print(x)\n",
    "#will print its keys i.e.Countries  "
   ]
  },
  {
   "cell_type": "code",
   "execution_count": 24,
   "id": "30a9924c",
   "metadata": {},
   "outputs": [
    {
     "name": "stdout",
     "output_type": "stream",
     "text": [
      "India Pune\n",
      "USA Atlanta\n",
      "Italy ('Rome', 'roma')\n",
      "Egypt cairo\n"
     ]
    }
   ],
   "source": [
    "for x,y in countries_cities.items():  #prints keys and values\n",
    "    print(x,y)"
   ]
  },
  {
   "cell_type": "code",
   "execution_count": 23,
   "id": "a4919c94",
   "metadata": {},
   "outputs": [
    {
     "name": "stdout",
     "output_type": "stream",
     "text": [
      "Pune cairo\n",
      "Atlanta cairo\n",
      "('Rome', 'roma') cairo\n",
      "cairo cairo\n"
     ]
    }
   ],
   "source": [
    "for x in countries_cities.values():  #prints values\n",
    "    print(x)"
   ]
  },
  {
   "cell_type": "code",
   "execution_count": 25,
   "id": "6304fc37",
   "metadata": {},
   "outputs": [
    {
     "name": "stdout",
     "output_type": "stream",
     "text": [
      "4\n"
     ]
    }
   ],
   "source": [
    "#print length of dictionary\n",
    "print(len(countries_cities))"
   ]
  },
  {
   "cell_type": "code",
   "execution_count": 28,
   "id": "d0a7ae37",
   "metadata": {},
   "outputs": [],
   "source": [
    "#Nested Dictionaries:A dictionary can also contain many dictionaries, this is called nested dictionaries.\n",
    "\n",
    "family={\n",
    "    'firstchild':{\n",
    "        'name':'Neha',\n",
    "        'age':12,\n",
    "        'year':2003\n",
    "    },\n",
    "    'secondchild':{\n",
    "        'name':'nakul',\n",
    "        'age':9,\n",
    "        'year':2000        \n",
    "    }\n",
    "}"
   ]
  },
  {
   "cell_type": "code",
   "execution_count": 29,
   "id": "7707bdc1",
   "metadata": {},
   "outputs": [
    {
     "data": {
      "text/plain": [
       "{'name': 'nakul', 'age': 9, 'year': 2000}"
      ]
     },
     "execution_count": 29,
     "metadata": {},
     "output_type": "execute_result"
    }
   ],
   "source": [
    "family['secondchild']"
   ]
  },
  {
   "cell_type": "code",
   "execution_count": 30,
   "id": "788d5dfb",
   "metadata": {},
   "outputs": [],
   "source": [
    "#clear or empty dictionary\n",
    "\n",
    "family.clear()"
   ]
  },
  {
   "cell_type": "code",
   "execution_count": 31,
   "id": "ef8a7d35",
   "metadata": {},
   "outputs": [
    {
     "data": {
      "text/plain": [
       "{}"
      ]
     },
     "execution_count": 31,
     "metadata": {},
     "output_type": "execute_result"
    }
   ],
   "source": [
    "family #empty dictionary"
   ]
  },
  {
   "cell_type": "code",
   "execution_count": null,
   "id": "2e6bdb38",
   "metadata": {},
   "outputs": [],
   "source": []
  }
 ],
 "metadata": {
  "kernelspec": {
   "display_name": "Python 3",
   "language": "python",
   "name": "python3"
  },
  "language_info": {
   "codemirror_mode": {
    "name": "ipython",
    "version": 3
   },
   "file_extension": ".py",
   "mimetype": "text/x-python",
   "name": "python",
   "nbconvert_exporter": "python",
   "pygments_lexer": "ipython3",
   "version": "3.7.3"
  }
 },
 "nbformat": 4,
 "nbformat_minor": 5
}
