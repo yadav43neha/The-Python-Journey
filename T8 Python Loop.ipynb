{
 "cells": [
  {
   "cell_type": "markdown",
   "id": "1e84526a",
   "metadata": {},
   "source": [
    "### Python Loops\n",
    "\n",
    "**1)while Loop** : Used to execute a set of statement(code) as long as condition is true<br>\n",
    "    \n",
    "**2)for Loop** :Used for iterating over a sequence(that is either a list, a tuple, a dictionary or a string)"
   ]
  },
  {
   "cell_type": "code",
   "execution_count": 1,
   "id": "d2bf5a41",
   "metadata": {},
   "outputs": [
    {
     "name": "stdout",
     "output_type": "stream",
     "text": [
      "0\n",
      "1\n",
      "2\n",
      "3\n",
      "4\n",
      "5\n",
      "6\n"
     ]
    }
   ],
   "source": [
    "#while loop\n",
    "\n",
    "i=0\n",
    "while i<7:\n",
    "    print(i)\n",
    "    i+=1\n",
    "    \n",
    "#Note: Remember to increment i, or else the loop will continue forever.\n",
    "\n",
    "#The while loop requires variables to be ready, in this example\n",
    "#we need to define on indexing variable, i, which we set to 1"
   ]
  },
  {
   "cell_type": "code",
   "execution_count": 3,
   "id": "8700f1f6",
   "metadata": {},
   "outputs": [
    {
     "name": "stdout",
     "output_type": "stream",
     "text": [
      "1\n",
      "2\n",
      "3\n",
      "4\n"
     ]
    }
   ],
   "source": [
    "# The break statement with the break statement we can stop the loop even if the while condition is true:\n",
    "\n",
    "i=1\n",
    "while i<7:\n",
    "    print(i)\n",
    "    if(i==4):\n",
    "        break\n",
    "    i+=1"
   ]
  },
  {
   "cell_type": "code",
   "execution_count": 2,
   "id": "53523312",
   "metadata": {},
   "outputs": [
    {
     "name": "stdout",
     "output_type": "stream",
     "text": [
      "1\n",
      "2\n",
      "3\n",
      "5\n",
      "6\n",
      "7\n"
     ]
    }
   ],
   "source": [
    "#The continue statement with the continue statement we can stop the current iteration, and continue with the next\n",
    "\n",
    "i=0\n",
    "while i<7:\n",
    "    i +=1\n",
    "    if i==4:\n",
    "        continue\n",
    "    print(i)\n",
    "    \n",
    "#Note that number 4 is missing in the result\n"
   ]
  },
  {
   "cell_type": "code",
   "execution_count": 3,
   "id": "da6013c1",
   "metadata": {},
   "outputs": [
    {
     "name": "stdout",
     "output_type": "stream",
     "text": [
      "apple\n",
      "banana\n",
      "chickoo\n",
      "Grapes\n"
     ]
    }
   ],
   "source": [
    "#For loops\n",
    "\n",
    "fruits=['apple','banana','chickoo','Grapes']\n",
    "for x in fruits:\n",
    "    print(x)"
   ]
  },
  {
   "cell_type": "code",
   "execution_count": 4,
   "id": "40906b59",
   "metadata": {},
   "outputs": [
    {
     "name": "stdout",
     "output_type": "stream",
     "text": [
      "s\n",
      "t\n",
      "r\n",
      "a\n",
      "w\n",
      "b\n",
      "e\n",
      "r\n",
      "r\n",
      "y\n"
     ]
    }
   ],
   "source": [
    "for x in 'strawberry':\n",
    "    print(x)"
   ]
  },
  {
   "cell_type": "code",
   "execution_count": 6,
   "id": "824f4b09",
   "metadata": {},
   "outputs": [
    {
     "name": "stdout",
     "output_type": "stream",
     "text": [
      "Yellow apple\n",
      "Yellow banana\n",
      "Yellow chickoo\n",
      "Yellow Grapes\n",
      "red apple\n",
      "red banana\n",
      "red chickoo\n",
      "red Grapes\n",
      "big apple\n",
      "big banana\n",
      "big chickoo\n",
      "big Grapes\n"
     ]
    }
   ],
   "source": [
    "#nested for loops\n",
    "a=['Yellow','red','big']\n",
    "fruits=['apple','banana','chickoo','Grapes']\n",
    "\n",
    "for x in a:\n",
    "    for y in fruits:\n",
    "        print(x,y)"
   ]
  },
  {
   "cell_type": "code",
   "execution_count": null,
   "id": "22730cba",
   "metadata": {},
   "outputs": [],
   "source": []
  }
 ],
 "metadata": {
  "kernelspec": {
   "display_name": "Python 3",
   "language": "python",
   "name": "python3"
  },
  "language_info": {
   "codemirror_mode": {
    "name": "ipython",
    "version": 3
   },
   "file_extension": ".py",
   "mimetype": "text/x-python",
   "name": "python",
   "nbconvert_exporter": "python",
   "pygments_lexer": "ipython3",
   "version": "3.7.3"
  }
 },
 "nbformat": 4,
 "nbformat_minor": 5
}
