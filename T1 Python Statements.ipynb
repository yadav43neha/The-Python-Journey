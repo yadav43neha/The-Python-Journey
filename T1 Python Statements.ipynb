{
 "cells": [
  {
   "cell_type": "code",
   "execution_count": 1,
   "id": "261603dd",
   "metadata": {},
   "outputs": [
    {
     "data": {
      "text/plain": [
       "81"
      ]
     },
     "execution_count": 1,
     "metadata": {},
     "output_type": "execute_result"
    }
   ],
   "source": [
    "#single statement\n",
    "9*9"
   ]
  },
  {
   "cell_type": "markdown",
   "id": "56844ff1",
   "metadata": {},
   "source": [
    "A for loop is used for iterating over a sequence.<br>\n",
    "\n",
    "The range() function returns a sequence of nos. starting from 0 <br> by default and increments by 1(by default) and ends at a specified number"
   ]
  },
  {
   "cell_type": "code",
   "execution_count": 2,
   "id": "7909c2a9",
   "metadata": {},
   "outputs": [
    {
     "name": "stdout",
     "output_type": "stream",
     "text": [
      "0\n",
      "1\n",
      "2\n",
      "3\n",
      "4\n",
      "5\n",
      "6\n",
      "7\n",
      "8\n",
      "9\n",
      "10\n",
      "11\n",
      "12\n"
     ]
    }
   ],
   "source": [
    "#multiline statements\n",
    "#here range is inbuilt function and : is important for indentation level\n",
    "\n",
    "for i in range(13):\n",
    "    print(i)    #statement line"
   ]
  },
  {
   "cell_type": "markdown",
   "id": "52fc7b4c",
   "metadata": {},
   "source": [
    "#### Python Comments"
   ]
  },
  {
   "cell_type": "markdown",
   "id": "f6234932",
   "metadata": {},
   "source": [
    "comments can be used to explain Python code<br>\n",
    "Comments can be used to prevent code execution<br>\n",
    "Comments can be single (#) line or multi line(\"\"\" \"\"\")<br>\n",
    "    "
   ]
  },
  {
   "cell_type": "code",
   "execution_count": 3,
   "id": "c70db36c",
   "metadata": {},
   "outputs": [
    {
     "name": "stdout",
     "output_type": "stream",
     "text": [
      "hello world\n"
     ]
    }
   ],
   "source": [
    "print (\"hello world\") # does not affect the code after we run"
   ]
  },
  {
   "cell_type": "code",
   "execution_count": 5,
   "id": "35b8812d",
   "metadata": {},
   "outputs": [],
   "source": [
    "# Multiline comments"
   ]
  },
  {
   "cell_type": "code",
   "execution_count": 6,
   "id": "e6d81aac",
   "metadata": {},
   "outputs": [
    {
     "name": "stdout",
     "output_type": "stream",
     "text": [
      "hello world\n"
     ]
    }
   ],
   "source": [
    "\"\"\"\n",
    "this is comment\n",
    "it is multiline\n",
    "\"\"\"\n",
    "print(\"hello world\")"
   ]
  },
  {
   "cell_type": "code",
   "execution_count": null,
   "id": "ea6cf55e",
   "metadata": {},
   "outputs": [],
   "source": []
  }
 ],
 "metadata": {
  "kernelspec": {
   "display_name": "Python 3",
   "language": "python",
   "name": "python3"
  },
  "language_info": {
   "codemirror_mode": {
    "name": "ipython",
    "version": 3
   },
   "file_extension": ".py",
   "mimetype": "text/x-python",
   "name": "python",
   "nbconvert_exporter": "python",
   "pygments_lexer": "ipython3",
   "version": "3.7.3"
  }
 },
 "nbformat": 4,
 "nbformat_minor": 5
}
