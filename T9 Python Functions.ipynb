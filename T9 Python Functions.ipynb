{
 "cells": [
  {
   "cell_type": "markdown",
   "id": "bf20af73",
   "metadata": {},
   "source": [
    "* Functions are pieces (block) of code that does something <br>\n",
    "* They are reusable<br>\n",
    "* They execute or run when called by their name<br>\n",
    "* They can have parameters(variables) and arguments(values)<br>\n",
    "* They can return data as a result.<br>\n",
    "* There are built-in functions. Example print()<br>\n",
    "* You can also create your own custom functions."
   ]
  },
  {
   "cell_type": "code",
   "execution_count": null,
   "id": "8697f068",
   "metadata": {},
   "outputs": [],
   "source": [
    "#Creating a Function\n",
    "def function_name():\n",
    "    print(\"hello\")"
   ]
  },
  {
   "cell_type": "code",
   "execution_count": 1,
   "id": "ed4ff229",
   "metadata": {},
   "outputs": [
    {
     "name": "stdout",
     "output_type": "stream",
     "text": [
      "9\n"
     ]
    }
   ],
   "source": [
    "#example,here sum() is function\n",
    "def sum(x,y): # x,y are parameters(varibales)\n",
    "    print(x+y)\n",
    "    \n",
    "sum(4,5) #4,5 are arguments and calling the function"
   ]
  },
  {
   "cell_type": "code",
   "execution_count": 3,
   "id": "000e8fab",
   "metadata": {},
   "outputs": [],
   "source": [
    "#It will print Nothing because there is no function call.\n",
    "x=2\n",
    "y=9\n",
    "def sum(x,y): # x,y are parameters(varibales)\n",
    "    print(x+y)"
   ]
  },
  {
   "cell_type": "markdown",
   "id": "b2ed7216",
   "metadata": {},
   "source": [
    "### parameter Vs Argument"
   ]
  },
  {
   "cell_type": "markdown",
   "id": "78814d05",
   "metadata": {},
   "source": [
    "* A parameter is a variable defined inside function's parenthesis.<br>\n",
    "* An argument is the actual value you pass(give) the function when it is called."
   ]
  },
  {
   "cell_type": "markdown",
   "id": "10321e9a",
   "metadata": {},
   "source": [
    "### Default Parameter Value\n",
    "* This is the value a function uses when called without passing it a value.<br>\n",
    "* Only Parameters at the end of parameter list can have a default value as Values are assigned by position.<br>"
   ]
  },
  {
   "cell_type": "code",
   "execution_count": 10,
   "id": "733397af",
   "metadata": {},
   "outputs": [
    {
     "name": "stdout",
     "output_type": "stream",
     "text": [
      "helloblueline\n",
      "helloNeha\n",
      "helloYadav\n"
     ]
    }
   ],
   "source": [
    "def student_names(names= \"blueline\"):   #default parameter\n",
    "    print(\"hello\" + names)\n",
    "    \n",
    "#calling the function with and without argument\n",
    "student_names()\n",
    "student_names(\"Neha\")\n",
    "student_names(\"Yadav\")"
   ]
  },
  {
   "cell_type": "code",
   "execution_count": null,
   "id": "341127fc",
   "metadata": {},
   "outputs": [],
   "source": []
  }
 ],
 "metadata": {
  "kernelspec": {
   "display_name": "Python 3",
   "language": "python",
   "name": "python3"
  },
  "language_info": {
   "codemirror_mode": {
    "name": "ipython",
    "version": 3
   },
   "file_extension": ".py",
   "mimetype": "text/x-python",
   "name": "python",
   "nbconvert_exporter": "python",
   "pygments_lexer": "ipython3",
   "version": "3.7.3"
  }
 },
 "nbformat": 4,
 "nbformat_minor": 5
}
