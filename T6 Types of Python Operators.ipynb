{
 "cells": [
  {
   "cell_type": "markdown",
   "id": "52714abe",
   "metadata": {},
   "source": [
    "* Python Arithmetic Operators(+,-,*,/,%)\n",
    "Used with numeric values to perform common mathematical operations."
   ]
  },
  {
   "cell_type": "markdown",
   "id": "4dda4ba5",
   "metadata": {},
   "source": [
    "* Python Assignments Operators ( =, +=, -=, *=,/=,  %= ) <br>\n",
    "Used to assign values to variables"
   ]
  },
  {
   "cell_type": "markdown",
   "id": "be312cd8",
   "metadata": {},
   "source": [
    "* Python Comaprison Operators ( ==, != > < >= <= )<br>\n",
    "Comparison operators are used to compare two values"
   ]
  },
  {
   "cell_type": "markdown",
   "id": "e1566715",
   "metadata": {},
   "source": [
    " * Python Logical Operators ( and ,or ,not )<br>\n",
    "Logical operators are used to combine conditional statements"
   ]
  },
  {
   "cell_type": "markdown",
   "id": "bb3185cc",
   "metadata": {},
   "source": [
    "### Python Arithmetic Operators"
   ]
  },
  {
   "cell_type": "code",
   "execution_count": 5,
   "id": "531ceae1",
   "metadata": {},
   "outputs": [
    {
     "name": "stdout",
     "output_type": "stream",
     "text": [
      "30\n"
     ]
    }
   ],
   "source": [
    "\n",
    "x=21\n",
    "y=9\n",
    "print(x+y) #addition operator"
   ]
  },
  {
   "cell_type": "code",
   "execution_count": 7,
   "id": "db5fc66e",
   "metadata": {},
   "outputs": [
    {
     "name": "stdout",
     "output_type": "stream",
     "text": [
      "12\n"
     ]
    }
   ],
   "source": [
    "print(x-y) #subtraction operator"
   ]
  },
  {
   "cell_type": "code",
   "execution_count": 8,
   "id": "2db4e7d5",
   "metadata": {},
   "outputs": [],
   "source": [
    "#Likewise Use multiplication and Division"
   ]
  },
  {
   "cell_type": "code",
   "execution_count": 9,
   "id": "b31fa9bf",
   "metadata": {},
   "outputs": [
    {
     "name": "stdout",
     "output_type": "stream",
     "text": [
      "3\n"
     ]
    }
   ],
   "source": [
    "#modulus operator- when we divide 21/9, it returns the remainder\n",
    "print(x%y)"
   ]
  },
  {
   "cell_type": "markdown",
   "id": "c76eb66d",
   "metadata": {},
   "source": [
    "### Python Assignments Operators "
   ]
  },
  {
   "cell_type": "code",
   "execution_count": 10,
   "id": "5f79819a",
   "metadata": {},
   "outputs": [
    {
     "name": "stdout",
     "output_type": "stream",
     "text": [
      "Pune\n"
     ]
    }
   ],
   "source": [
    "city='Pune'\n",
    "print(city)"
   ]
  },
  {
   "cell_type": "code",
   "execution_count": 11,
   "id": "bf2bb485",
   "metadata": {},
   "outputs": [
    {
     "name": "stdout",
     "output_type": "stream",
     "text": [
      "10\n"
     ]
    }
   ],
   "source": [
    "x=7\n",
    "x+=3\n",
    "print(x)"
   ]
  },
  {
   "cell_type": "code",
   "execution_count": 16,
   "id": "29a04955",
   "metadata": {},
   "outputs": [
    {
     "data": {
      "text/plain": [
       "3"
      ]
     },
     "execution_count": 16,
     "metadata": {},
     "output_type": "execute_result"
    }
   ],
   "source": [
    "x=6\n",
    "x-=3\n",
    "x"
   ]
  },
  {
   "cell_type": "code",
   "execution_count": 17,
   "id": "8176c57d",
   "metadata": {},
   "outputs": [
    {
     "data": {
      "text/plain": [
       "6"
      ]
     },
     "execution_count": 17,
     "metadata": {},
     "output_type": "execute_result"
    }
   ],
   "source": [
    "x=2\n",
    "x*=3\n",
    "x"
   ]
  },
  {
   "cell_type": "code",
   "execution_count": 18,
   "id": "e4e9bcdd",
   "metadata": {},
   "outputs": [
    {
     "data": {
      "text/plain": [
       "3.0"
      ]
     },
     "execution_count": 18,
     "metadata": {},
     "output_type": "execute_result"
    }
   ],
   "source": [
    "x=9\n",
    "x/=3\n",
    "x"
   ]
  },
  {
   "cell_type": "code",
   "execution_count": 19,
   "id": "aa2382ad",
   "metadata": {},
   "outputs": [
    {
     "data": {
      "text/plain": [
       "1"
      ]
     },
     "execution_count": 19,
     "metadata": {},
     "output_type": "execute_result"
    }
   ],
   "source": [
    "x=7\n",
    "x%=3\n",
    "x"
   ]
  },
  {
   "cell_type": "markdown",
   "id": "1a9281d8",
   "metadata": {},
   "source": [
    "### Python Comaprison Operators"
   ]
  },
  {
   "cell_type": "code",
   "execution_count": 20,
   "id": "bdec0b7e",
   "metadata": {},
   "outputs": [
    {
     "data": {
      "text/plain": [
       "False"
      ]
     },
     "execution_count": 20,
     "metadata": {},
     "output_type": "execute_result"
    }
   ],
   "source": [
    "2>3"
   ]
  },
  {
   "cell_type": "code",
   "execution_count": 21,
   "id": "fe7afaea",
   "metadata": {},
   "outputs": [
    {
     "data": {
      "text/plain": [
       "True"
      ]
     },
     "execution_count": 21,
     "metadata": {},
     "output_type": "execute_result"
    }
   ],
   "source": [
    "4>3"
   ]
  },
  {
   "cell_type": "code",
   "execution_count": 22,
   "id": "dc9d4bd7",
   "metadata": {},
   "outputs": [
    {
     "data": {
      "text/plain": [
       "True"
      ]
     },
     "execution_count": 22,
     "metadata": {},
     "output_type": "execute_result"
    }
   ],
   "source": [
    "2>=1"
   ]
  },
  {
   "cell_type": "code",
   "execution_count": 23,
   "id": "a5755e24",
   "metadata": {},
   "outputs": [
    {
     "name": "stdout",
     "output_type": "stream",
     "text": [
      "False\n"
     ]
    }
   ],
   "source": [
    "x=6\n",
    "y=3\n",
    "print(x==y)"
   ]
  },
  {
   "cell_type": "code",
   "execution_count": 24,
   "id": "b93c493e",
   "metadata": {},
   "outputs": [
    {
     "name": "stdout",
     "output_type": "stream",
     "text": [
      "True\n"
     ]
    }
   ],
   "source": [
    "print(x>=y)"
   ]
  },
  {
   "cell_type": "code",
   "execution_count": 25,
   "id": "6c32541f",
   "metadata": {},
   "outputs": [
    {
     "name": "stdout",
     "output_type": "stream",
     "text": [
      "False\n"
     ]
    }
   ],
   "source": [
    "print(x<=y)"
   ]
  },
  {
   "cell_type": "code",
   "execution_count": 26,
   "id": "605fa729",
   "metadata": {},
   "outputs": [
    {
     "name": "stdout",
     "output_type": "stream",
     "text": [
      "True\n"
     ]
    }
   ],
   "source": [
    "print(x!=y)"
   ]
  },
  {
   "cell_type": "markdown",
   "id": "ab182503",
   "metadata": {},
   "source": [
    "### Python Logical Operators"
   ]
  },
  {
   "cell_type": "code",
   "execution_count": 27,
   "id": "f2748867",
   "metadata": {},
   "outputs": [
    {
     "name": "stdout",
     "output_type": "stream",
     "text": [
      "True\n"
     ]
    }
   ],
   "source": [
    "x=9\n",
    "print(x>3 and x<10) #both conditions must be 'True' then it will return 'True'"
   ]
  },
  {
   "cell_type": "code",
   "execution_count": 28,
   "id": "fe29f52d",
   "metadata": {},
   "outputs": [
    {
     "name": "stdout",
     "output_type": "stream",
     "text": [
      "True\n"
     ]
    }
   ],
   "source": [
    "x=6\n",
    "print(x>3 or x<2) #atleast one condition must be 'True' to get output as true"
   ]
  },
  {
   "cell_type": "code",
   "execution_count": 29,
   "id": "b3b5cdb1",
   "metadata": {},
   "outputs": [
    {
     "name": "stdout",
     "output_type": "stream",
     "text": [
      "False\n"
     ]
    }
   ],
   "source": [
    "x=7\n",
    "print(not(x>3 and x< 10))\n",
    "#returns false because not is used to reverse the result"
   ]
  },
  {
   "cell_type": "code",
   "execution_count": null,
   "id": "228ae00e",
   "metadata": {},
   "outputs": [],
   "source": []
  }
 ],
 "metadata": {
  "kernelspec": {
   "display_name": "Python 3",
   "language": "python",
   "name": "python3"
  },
  "language_info": {
   "codemirror_mode": {
    "name": "ipython",
    "version": 3
   },
   "file_extension": ".py",
   "mimetype": "text/x-python",
   "name": "python",
   "nbconvert_exporter": "python",
   "pygments_lexer": "ipython3",
   "version": "3.7.3"
  }
 },
 "nbformat": 4,
 "nbformat_minor": 5
}
